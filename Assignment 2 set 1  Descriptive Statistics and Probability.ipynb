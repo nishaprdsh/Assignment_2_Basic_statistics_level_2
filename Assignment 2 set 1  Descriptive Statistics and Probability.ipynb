{
 "cells": [
  {
   "cell_type": "markdown",
   "id": "7c358cf0",
   "metadata": {},
   "source": [
    "## 1 Look at the data given below. Plot the data, find the outliers and find out  μ,σ,σ^2\n",
    "\n"
   ]
  },
  {
   "cell_type": "markdown",
   "id": "709e7dff",
   "metadata": {},
   "source": [
    "* Name of company\tMeasure X\n",
    "* Allied Signal\t    24.23%\n",
    "* Bankers Trust\t    25.53%\n",
    "* General Mills\t    25.41%\n",
    "* ITT Industries\t24.14%\n",
    "* J.P.Morgan & Co.\t29.62%\n",
    "* Lehman Brothers\t28.25%\n",
    "* Marriott\t        25.81%\n",
    "* MCI\t            24.39%\n",
    "* Merrill Lynch\t    40.26%\n",
    "* Microsoft\t        32.95%\n",
    "* Morgan Stanley\t91.36%\n",
    "* Sun Microsystems\t25.99%\n",
    "* Travelers    \t    39.42%\n",
    "* US Airways\t    26.71%\n",
    "* Warner-Lambert\t35.00%\n"
   ]
  },
  {
   "cell_type": "code",
   "execution_count": 11,
   "id": "b1e13126",
   "metadata": {},
   "outputs": [],
   "source": [
    "X = [0.2423,0.2553,0.2541,0.2414,0.2962,0.2825,0.2581,0.2439,0.4026,0.3295,0.9136,0.2599,0.3942,0.2671,0.3500]"
   ]
  },
  {
   "cell_type": "code",
   "execution_count": 13,
   "id": "a0b5644d",
   "metadata": {},
   "outputs": [
    {
     "data": {
      "text/plain": [
       "[0.2423,\n",
       " 0.2553,\n",
       " 0.2541,\n",
       " 0.2414,\n",
       " 0.2962,\n",
       " 0.2825,\n",
       " 0.2581,\n",
       " 0.2439,\n",
       " 0.4026,\n",
       " 0.3295,\n",
       " 0.9136,\n",
       " 0.2599,\n",
       " 0.3942,\n",
       " 0.2671,\n",
       " 0.35]"
      ]
     },
     "execution_count": 13,
     "metadata": {},
     "output_type": "execute_result"
    }
   ],
   "source": [
    "X"
   ]
  },
  {
   "cell_type": "code",
   "execution_count": 5,
   "id": "b4b3bb86",
   "metadata": {},
   "outputs": [],
   "source": [
    "import numpy as np"
   ]
  },
  {
   "cell_type": "code",
   "execution_count": 14,
   "id": "b18492b2",
   "metadata": {},
   "outputs": [
    {
     "name": "stdout",
     "output_type": "stream",
     "text": [
      "Mean of x: 0.3327133333333333\n"
     ]
    }
   ],
   "source": [
    "Mean =np.mean(X)\n",
    "print('Mean of x:',Mean)"
   ]
  },
  {
   "cell_type": "code",
   "execution_count": 15,
   "id": "ef4dd241",
   "metadata": {},
   "outputs": [
    {
     "name": "stdout",
     "output_type": "stream",
     "text": [
      "Standard deviation of x: 0.16370812590976933\n"
     ]
    }
   ],
   "source": [
    "std =np.std(X)\n",
    "print('Standard deviation of x:',std)"
   ]
  },
  {
   "cell_type": "code",
   "execution_count": 9,
   "id": "2222e77c",
   "metadata": {
    "scrolled": true
   },
   "outputs": [
    {
     "name": "stdout",
     "output_type": "stream",
     "text": [
      "Variance of x: 0.026800350488888885\n"
     ]
    }
   ],
   "source": [
    "var =np.var(X)\n",
    "print('Variance of x:',var)"
   ]
  },
  {
   "cell_type": "markdown",
   "id": "1d1b94e9",
   "metadata": {},
   "source": [
    "### What is an outlier?\n",
    "An outlier is a data point in a data set that is distant from all other observations.A data point that lies outside the overall distrIbution of the dataset "
   ]
  },
  {
   "cell_type": "markdown",
   "id": "cb17e531",
   "metadata": {},
   "source": [
    "### What are the criteria to identify an outlier?\n",
    "* 1.Data point that falls outside of 1.5 times of an interquartile range above the 3rd quartile and below the 1st quartile\n",
    "* 2.Data point that falls outside of 3 standard deviation.we can use a z score and if the z score falls outside of 2 standard deviation"
   ]
  },
  {
   "cell_type": "markdown",
   "id": "0ed6fc56",
   "metadata": {},
   "source": [
    "## Various way of finding the outlier\n",
    "1. Using scatter plot\n",
    "2. Box plot\n",
    "3. Z-score\n",
    "4. Using the IQR Interquartile range"
   ]
  },
  {
   "cell_type": "markdown",
   "id": "4a8dc25f",
   "metadata": {},
   "source": [
    "## Detecting outlier using IQR"
   ]
  },
  {
   "cell_type": "markdown",
   "id": "83b79e5b",
   "metadata": {},
   "source": [
    "### interquartile range\n",
    "* 75%-25% values in a dataset"
   ]
  },
  {
   "cell_type": "markdown",
   "id": "f673bd9e",
   "metadata": {},
   "source": [
    "### Steps\n",
    "1. Arrange the datasetin increasing order\n",
    "2. Calculate first(q1) and third quartile(q3)\n",
    "3. Find Interquartile range(q3-q1)\n",
    "4. Find lower bound q1*1.5\n",
    "5. Find upper bound q3*1.5\n",
    "\n",
    "anything that lies outside of lower and upper bound is an outlier"
   ]
  },
  {
   "cell_type": "code",
   "execution_count": 19,
   "id": "fc692bae",
   "metadata": {},
   "outputs": [
    {
     "data": {
      "text/plain": [
       "[0.2414,\n",
       " 0.2423,\n",
       " 0.2439,\n",
       " 0.2541,\n",
       " 0.2553,\n",
       " 0.2581,\n",
       " 0.2599,\n",
       " 0.2671,\n",
       " 0.2825,\n",
       " 0.2962,\n",
       " 0.3295,\n",
       " 0.35,\n",
       " 0.3942,\n",
       " 0.4026,\n",
       " 0.9136]"
      ]
     },
     "execution_count": 19,
     "metadata": {},
     "output_type": "execute_result"
    }
   ],
   "source": [
    "# perform all the steps of IQR\n",
    "sorted(X)"
   ]
  },
  {
   "cell_type": "code",
   "execution_count": 23,
   "id": "51068543",
   "metadata": {},
   "outputs": [],
   "source": [
    "quantile1,quantile3=np.percentile(X,[25,75])"
   ]
  },
  {
   "cell_type": "code",
   "execution_count": 25,
   "id": "ffd2a290",
   "metadata": {},
   "outputs": [
    {
     "name": "stdout",
     "output_type": "stream",
     "text": [
      "0.25470000000000004 0.33975\n"
     ]
    }
   ],
   "source": [
    "print(quantile1,quantile3)"
   ]
  },
  {
   "cell_type": "code",
   "execution_count": 26,
   "id": "6e06bce8",
   "metadata": {},
   "outputs": [
    {
     "name": "stdout",
     "output_type": "stream",
     "text": [
      "0.08504999999999996\n"
     ]
    }
   ],
   "source": [
    "# find the IQR\n",
    "iqr_value = quantile3-quantile1\n",
    "print(iqr_value)"
   ]
  },
  {
   "cell_type": "code",
   "execution_count": 28,
   "id": "a8851443",
   "metadata": {},
   "outputs": [
    {
     "name": "stdout",
     "output_type": "stream",
     "text": [
      "0.1271250000000001 0.46732499999999993\n"
     ]
    }
   ],
   "source": [
    "lower_bound_val = quantile1-(1.5 * iqr_value)\n",
    "upper_bound_val = quantile3+(1.5 * iqr_value)\n",
    "print(lower_bound_val,upper_bound_val)"
   ]
  }
 ],
 "metadata": {
  "kernelspec": {
   "display_name": "Python 3",
   "language": "python",
   "name": "python3"
  },
  "language_info": {
   "codemirror_mode": {
    "name": "ipython",
    "version": 3
   },
   "file_extension": ".py",
   "mimetype": "text/x-python",
   "name": "python",
   "nbconvert_exporter": "python",
   "pygments_lexer": "ipython3",
   "version": "3.8.8"
  }
 },
 "nbformat": 4,
 "nbformat_minor": 5
}
